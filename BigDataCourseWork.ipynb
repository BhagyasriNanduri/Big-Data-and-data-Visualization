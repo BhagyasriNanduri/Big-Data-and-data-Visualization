{
  "nbformat": 4,
  "nbformat_minor": 0,
  "metadata": {
    "colab": {
      "provenance": []
    },
    "kernelspec": {
      "name": "python3",
      "display_name": "Python 3"
    },
    "language_info": {
      "name": "python"
    }
  },
  "cells": [
    {
      "cell_type": "code",
      "source": [
        "!apt-get install openjdk-8-jdk-headless -qq > /dev/null"
      ],
      "metadata": {
        "id": "mQkeKcbJmj48"
      },
      "execution_count": 1,
      "outputs": []
    },
    {
      "cell_type": "code",
      "source": [
        "!wget -q https://archive.apache.org/dist/spark/spark-3.0.0/spark-3.0.0-bin-hadoop3.2.tgz"
      ],
      "metadata": {
        "id": "8AcVMtv_moQ6"
      },
      "execution_count": 2,
      "outputs": []
    },
    {
      "cell_type": "code",
      "source": [
        "!tar xf spark-3.0.0-bin-hadoop3.2.tgz"
      ],
      "metadata": {
        "id": "_R1PydZ3mqj_"
      },
      "execution_count": 3,
      "outputs": []
    },
    {
      "cell_type": "code",
      "source": [
        "import os\n",
        "os.environ[\"Java_Home\"]=\"/usr/lib/jvm/java-8-openjdk-amd64\"\n",
        "os.environ[\"Spark_home\"]=\"/content/spark-3.0.0-bin-hadoop3.2\""
      ],
      "metadata": {
        "id": "ZqxYVfhemxbX"
      },
      "execution_count": 4,
      "outputs": []
    },
    {
      "cell_type": "code",
      "source": [
        "!pip install -q findspark"
      ],
      "metadata": {
        "id": "bxMYsFcomuo3"
      },
      "execution_count": 5,
      "outputs": []
    },
    {
      "cell_type": "code",
      "source": [
        "!pip install pyspark==3.0.0"
      ],
      "metadata": {
        "colab": {
          "base_uri": "https://localhost:8080/"
        },
        "id": "i1gMGlSIm0HK",
        "outputId": "e9fd4a90-8049-47eb-c8a7-b68a338ff9cd"
      },
      "execution_count": 6,
      "outputs": [
        {
          "output_type": "stream",
          "name": "stdout",
          "text": [
            "Looking in indexes: https://pypi.org/simple, https://us-python.pkg.dev/colab-wheels/public/simple/\n",
            "Collecting pyspark==3.0.0\n",
            "  Downloading pyspark-3.0.0.tar.gz (204.7 MB)\n",
            "\u001b[K     |████████████████████████████████| 204.7 MB 24 kB/s \n",
            "\u001b[?25hCollecting py4j==0.10.9\n",
            "  Downloading py4j-0.10.9-py2.py3-none-any.whl (198 kB)\n",
            "\u001b[K     |████████████████████████████████| 198 kB 21.2 MB/s \n",
            "\u001b[?25hBuilding wheels for collected packages: pyspark\n",
            "  Building wheel for pyspark (setup.py) ... \u001b[?25l\u001b[?25hdone\n",
            "  Created wheel for pyspark: filename=pyspark-3.0.0-py2.py3-none-any.whl size=205044182 sha256=2bd4f7eee9ab2273bc86b6bb4d81bea469b084cb5dd7442612ea556d1e576119\n",
            "  Stored in directory: /root/.cache/pip/wheels/4e/c5/36/aef1bb711963a619063119cc032176106827a129c0be20e301\n",
            "Successfully built pyspark\n",
            "Installing collected packages: py4j, pyspark\n",
            "Successfully installed py4j-0.10.9 pyspark-3.0.0\n"
          ]
        }
      ]
    },
    {
      "cell_type": "code",
      "source": [
        "import findspark\n",
        "findspark.init()"
      ],
      "metadata": {
        "id": "hI_oLNKqnZFn"
      },
      "execution_count": 7,
      "outputs": []
    },
    {
      "cell_type": "code",
      "source": [
        "import pyspark\n",
        "findspark.init(\"spark-3.0.0-bin-hadoop3.2\")"
      ],
      "metadata": {
        "id": "TTAgWPibm-OL"
      },
      "execution_count": 8,
      "outputs": []
    },
    {
      "cell_type": "code",
      "execution_count": 9,
      "metadata": {
        "id": "sEWhoPAilk-D"
      },
      "outputs": [],
      "source": [
        "from pandas import isnull\n",
        "import numpy as np\n",
        "import pandas as pd\n",
        "import pandas_profiling\n",
        "\n",
        "import os\n",
        "import sys\n",
        "\n",
        "import pyspark\n",
        "from pyspark import SparkContext\n",
        "from pyspark.sql import SparkSession\n",
        "\n",
        "import pyspark.sql.functions as func\n",
        "from pyspark.sql.functions import col,avg\n",
        "\n",
        "import seaborn as sns\n",
        "from pyspark.sql.types import *\n"
      ]
    },
    {
      "cell_type": "code",
      "source": [
        "spark = SparkSession.builder.master(\"local[*]\").getOrCreate()"
      ],
      "metadata": {
        "id": "wY4u5Su9n-Yf"
      },
      "execution_count": 10,
      "outputs": []
    },
    {
      "cell_type": "code",
      "source": [
        "!unzip -x /content/airbnb_nyc_clean.csv.zip"
      ],
      "metadata": {
        "colab": {
          "base_uri": "https://localhost:8080/"
        },
        "id": "gbDDDP7voA1d",
        "outputId": "358b11f4-07ce-41f6-f1d7-de751acb579b"
      },
      "execution_count": 11,
      "outputs": [
        {
          "output_type": "stream",
          "name": "stdout",
          "text": [
            "Archive:  /content/airbnb_nyc_clean.csv.zip\n",
            "  inflating: airbnb_nyc_clean.csv    \n"
          ]
        }
      ]
    },
    {
      "cell_type": "code",
      "source": [
        "MyData='airbnb_nyc_clean.csv'\n",
        "My_df=spark.read.csv(MyData,inferSchema=True,header=True)"
      ],
      "metadata": {
        "id": "KNKMP9I2oKeo"
      },
      "execution_count": 12,
      "outputs": []
    },
    {
      "cell_type": "code",
      "source": [
        "My_df.show()"
      ],
      "metadata": {
        "colab": {
          "base_uri": "https://localhost:8080/"
        },
        "id": "eqxpslhDobu3",
        "outputId": "a051573a-1ed8-429f-e32a-8e4cefd97155"
      },
      "execution_count": 13,
      "outputs": [
        {
          "output_type": "stream",
          "name": "stdout",
          "text": [
            "+-------+--------------------+-----------+----------------------+---------+-------------------+------------------+--------+---------+----------------+-------------------+---------------+-----------------+------+------------------+--------------+-----------------+-----------+-----------------+------------------+------------------------------+----------------+--------------------+\n",
            "|     id|                name|    host_id|host_identity_verified|host_name|neighbourhood_group|     neighbourhood|     lat|     long|instant_bookable|cancellation_policy|      room_type|construction_year| price|       service_fee|minimum_nights|number_of_reviews|last_review|reviews_per_month|review_rate_number|calculated_host_listings_count|availability_365|         house_rules|\n",
            "+-------+--------------------+-----------+----------------------+---------+-------------------+------------------+--------+---------+----------------+-------------------+---------------+-----------------+------+------------------+--------------+-----------------+-----------+-----------------+------------------+------------------------------+----------------+--------------------+\n",
            "|1001254|Clean & quiet apt...|80014485718|           unconfirmed| Madaline|           Brooklyn|        Kensington|40.64749|-73.97237|           False|             strict|   Private room|           2020.0| 966.0|             193.0|          10.0|              9.0| 2021-10-19|             0.21|               4.0|                           6.0|           286.0|Clean up and trea...|\n",
            "|1002102|Skylit Midtown Ca...|52335172823|              verified|    Jenna|          Manhattan|           Midtown|40.75362|-73.98377|           False|           moderate|Entire home/apt|           2007.0| 142.0|              28.0|          13.0|             45.0| 2022-05-21|             0.38|               4.0|                           2.0|           228.0|Pet friendly but ...|\n",
            "|1002403|THE VILLAGE OF HA...|78829239556|           unconfirmed|    Elise|          Manhattan|            Harlem|40.80902| -73.9419|            True|           flexible|   Private room|           2005.0| 620.0|             124.0|           3.0|              0.0| 2019-06-14|             0.79|               5.0|                           1.0|           352.0|I encourage you t...|\n",
            "|1002755|               blank|85098326012|           unconfirmed|    Garry|           Brooklyn|      Clinton Hill|40.68514|-73.95976|            True|           moderate|Entire home/apt|           2005.0| 368.0|              74.0|          13.0|            270.0| 2019-07-05|             4.64|               4.0|                           1.0|           322.0|               blank|\n",
            "|1003689|Entire Apt: Spaci...|92037596077|              verified|   Lyndon|          Manhattan|       East Harlem|40.79851|-73.94399|           False|           moderate|Entire home/apt|           2009.0| 204.0|              41.0|          10.0|              9.0| 2018-11-19|              0.1|               3.0|                           1.0|           289.0|Please no smoking...|\n",
            "|1004098|Large Cozy 1 BR A...|45498551794|              verified| Michelle|          Manhattan|       Murray Hill|40.74767|  -73.975|            True|           flexible|Entire home/apt|           2013.0| 577.0|             115.0|           3.0|             74.0| 2019-06-22|             0.59|               3.0|                           1.0|           374.0|No smoking, pleas...|\n",
            "|1004650|     BlissArtsSpace!|61300605564|           unconfirmed|  Alberta|           Brooklyn|Bedford-Stuyvesant|40.68688|-73.95596|           False|           moderate|   Private room|           2015.0|  71.0|              14.0|          13.0|             49.0| 2017-10-05|              0.4|               5.0|                           1.0|           224.0|Please no shoes i...|\n",
            "|1005202|     BlissArtsSpace!|90821839709|           unconfirmed|     Emma|           Brooklyn|Bedford-Stuyvesant|40.68688|-73.95596|           False|           moderate|   Private room|           2009.0|1060.0|             212.0|          13.0|             49.0| 2017-10-05|              0.4|               5.0|                           1.0|           219.0|House Guidelines ...|\n",
            "|1005754|Large Furnished R...|79384379533|              verified|   Evelyn|          Manhattan|    Hell's Kitchen|40.76489|-73.98493|            True|             strict|   Private room|           2005.0|1018.0|             204.0|           2.0|            430.0| 2019-06-24|             3.47|               3.0|                           1.0|           180.0|- Please clean up...|\n",
            "|1006307|Cozy Clean Guest ...|75527839483|           unconfirmed|     Carl|          Manhattan|   Upper West Side|40.80178|-73.96723|           False|             strict|   Private room|           2015.0| 291.0|              58.0|           2.0|            118.0| 2017-07-21|             0.99|               5.0|                           1.0|           375.0|NO SMOKING OR PET...|\n",
            "|1006859|Cute & Cozy Lower...| 1280143094|              verified|  Miranda|          Manhattan|         Chinatown|40.71344|-73.99037|           False|           flexible|Entire home/apt|           2004.0| 319.0|              64.0|           1.0|            160.0| 2019-06-09|             1.33|               3.0|                           4.0|             1.0|               blank|\n",
            "|1007411|Beautiful 1br on ...|18824631834|              verified|     Alan|          Manhattan|   Upper West Side|40.80316|-73.96545|            True|           flexible|Entire home/apt|           2008.0| 606.0|             121.0|           5.0|             53.0| 2019-06-22|             0.43|               4.0|                           1.0|           163.0|My ideal guests w...|\n",
            "|1007964|Central Manhattan...|88136055909|              verified|    blank|          Manhattan|    Hell's Kitchen|40.76076|-73.98867|           False|             strict|   Private room|           2008.0| 714.0|             143.0|           2.0|            188.0| 2019-06-23|              1.5|               4.0|                           1.0|           258.0|- One of the bedr...|\n",
            "|1008516|Lovely Room 1, Ga...|26802410424|              verified|    Darcy|           Brooklyn|       South Slope|40.66829|-73.98779|            True|           moderate|   Private room|           2010.0| 580.0|             116.0|           4.0|            167.0| 2019-06-24|             1.34|               4.0|                           3.0|            47.0|               blank|\n",
            "|1009068|Wonderful Guest B...|88920244552|              verified| Leonardo|          Manhattan|   Upper West Side|40.79826|-73.96113|           False|           flexible|   Private room|           2019.0| 149.0|              30.0|           2.0|            113.0| 2019-07-05|             0.91|               3.0|                           1.0|            68.0|               blank|\n",
            "|1009621|West Village Nest...|46551725984|              verified|   Daniel|          Manhattan|      West Village| 40.7353|-74.00525|            True|           flexible|Entire home/apt|           2018.0| 578.0|124.89402583111317|          13.0|             27.0| 2018-10-31|             0.22|               3.0|                           1.0|           100.0|Arrival time can ...|\n",
            "|1010173|Only 2 stops to M...|62566345680|           unconfirmed|  Heather|           Brooklyn|      Williamsburg|40.70837|-73.95352|            True|           moderate|Entire home/apt|           2009.0| 778.0|124.89402583111317|           2.0|            148.0| 2019-06-29|              1.2|               3.0|                           1.0|           197.0|Absolutely no smo...|\n",
            "|1010725|Perfect for Your ...|80380130347|              verified|     Ryan|           Brooklyn|       Fort Greene|40.69169|-73.97185|            True|           flexible|Entire home/apt|           2006.0| 656.0|124.89402583111317|           2.0|            198.0| 2019-06-28|             1.72|               5.0|                           1.0|            96.0|- Please be mindf...|\n",
            "|1011277|     Chelsea Perfect|73862528370|              verified|  Alberta|          Manhattan|           Chelsea|40.74192|-73.99501|            True|           moderate|   Private room|           2008.0| 460.0|124.89402583111317|           1.0|            260.0| 2019-07-01|             2.12|               3.0|                           1.0|           325.0|               blank|\n",
            "|1011830|Hip Historic Brow...|72145018858|           unconfirmed|   Martin|           Brooklyn|     Crown Heights|40.67592|-73.94694|            True|           moderate|Entire home/apt|           2004.0|1095.0|124.89402583111317|           3.0|             53.0| 2019-06-22|             4.44|               5.0|                           1.0|           345.0|LAUNDRY - Laundry...|\n",
            "+-------+--------------------+-----------+----------------------+---------+-------------------+------------------+--------+---------+----------------+-------------------+---------------+-----------------+------+------------------+--------------+-----------------+-----------+-----------------+------------------+------------------------------+----------------+--------------------+\n",
            "only showing top 20 rows\n",
            "\n"
          ]
        }
      ]
    },
    {
      "cell_type": "code",
      "source": [
        "My_df.columns"
      ],
      "metadata": {
        "colab": {
          "base_uri": "https://localhost:8080/"
        },
        "id": "Ll58GXgKkas4",
        "outputId": "8208d27d-4b21-459b-b637-2993d0761458"
      },
      "execution_count": 14,
      "outputs": [
        {
          "output_type": "execute_result",
          "data": {
            "text/plain": [
              "['id',\n",
              " 'name',\n",
              " 'host_id',\n",
              " 'host_identity_verified',\n",
              " 'host_name',\n",
              " 'neighbourhood_group',\n",
              " 'neighbourhood',\n",
              " 'lat',\n",
              " 'long',\n",
              " 'instant_bookable',\n",
              " 'cancellation_policy',\n",
              " 'room_type',\n",
              " 'construction_year',\n",
              " 'price',\n",
              " 'service_fee',\n",
              " 'minimum_nights',\n",
              " 'number_of_reviews',\n",
              " 'last_review',\n",
              " 'reviews_per_month',\n",
              " 'review_rate_number',\n",
              " 'calculated_host_listings_count',\n",
              " 'availability_365',\n",
              " 'house_rules']"
            ]
          },
          "metadata": {},
          "execution_count": 14
        }
      ]
    },
    {
      "cell_type": "code",
      "source": [
        "My_df.printSchema()"
      ],
      "metadata": {
        "colab": {
          "base_uri": "https://localhost:8080/"
        },
        "id": "rw2mvUkxodbY",
        "outputId": "bb44a2da-c11e-4053-a72c-a31f67afd87c"
      },
      "execution_count": 15,
      "outputs": [
        {
          "output_type": "stream",
          "name": "stdout",
          "text": [
            "root\n",
            " |-- id: string (nullable = true)\n",
            " |-- name: string (nullable = true)\n",
            " |-- host_id: string (nullable = true)\n",
            " |-- host_identity_verified: string (nullable = true)\n",
            " |-- host_name: string (nullable = true)\n",
            " |-- neighbourhood_group: string (nullable = true)\n",
            " |-- neighbourhood: string (nullable = true)\n",
            " |-- lat: string (nullable = true)\n",
            " |-- long: string (nullable = true)\n",
            " |-- instant_bookable: string (nullable = true)\n",
            " |-- cancellation_policy: string (nullable = true)\n",
            " |-- room_type: string (nullable = true)\n",
            " |-- construction_year: string (nullable = true)\n",
            " |-- price: string (nullable = true)\n",
            " |-- service_fee: string (nullable = true)\n",
            " |-- minimum_nights: string (nullable = true)\n",
            " |-- number_of_reviews: string (nullable = true)\n",
            " |-- last_review: string (nullable = true)\n",
            " |-- reviews_per_month: string (nullable = true)\n",
            " |-- review_rate_number: string (nullable = true)\n",
            " |-- calculated_host_listings_count: double (nullable = true)\n",
            " |-- availability_365: string (nullable = true)\n",
            " |-- house_rules: string (nullable = true)\n",
            "\n"
          ]
        }
      ]
    },
    {
      "cell_type": "markdown",
      "source": [
        "Printing the number of rows"
      ],
      "metadata": {
        "id": "NyYs0DdwphRP"
      }
    },
    {
      "cell_type": "code",
      "source": [
        "print(\"No.of.rows :\", My_df.count())"
      ],
      "metadata": {
        "colab": {
          "base_uri": "https://localhost:8080/"
        },
        "id": "l7k71MCgok5Q",
        "outputId": "f5b31a15-76b4-4162-85fa-41b031f7f437"
      },
      "execution_count": 16,
      "outputs": [
        {
          "output_type": "stream",
          "name": "stdout",
          "text": [
            "No.of.rows : 69587\n"
          ]
        }
      ]
    },
    {
      "cell_type": "markdown",
      "source": [
        "Checking Null values for each attribute"
      ],
      "metadata": {
        "id": "hcIr5XhHpb4Y"
      }
    },
    {
      "cell_type": "code",
      "source": [
        "for col in My_df.columns:\n",
        "  print(col, \":\", My_df.where(My_df[col].isNull()).count())"
      ],
      "metadata": {
        "colab": {
          "base_uri": "https://localhost:8080/"
        },
        "id": "rvHH83XmowuQ",
        "outputId": "1ea67198-609b-4ec0-bccc-ee2fd577ce95"
      },
      "execution_count": 17,
      "outputs": [
        {
          "output_type": "stream",
          "name": "stdout",
          "text": [
            "id : 0\n",
            "name : 27\n",
            "host_id : 283\n",
            "host_identity_verified : 283\n",
            "host_name : 283\n",
            "neighbourhood_group : 283\n",
            "neighbourhood : 283\n",
            "lat : 283\n",
            "long : 283\n",
            "instant_bookable : 283\n",
            "cancellation_policy : 283\n",
            "room_type : 283\n",
            "construction_year : 283\n",
            "price : 283\n",
            "service_fee : 283\n",
            "minimum_nights : 283\n",
            "number_of_reviews : 283\n",
            "last_review : 283\n",
            "reviews_per_month : 283\n",
            "review_rate_number : 283\n",
            "calculated_host_listings_count : 283\n",
            "availability_365 : 283\n",
            "house_rules : 518\n"
          ]
        }
      ]
    },
    {
      "cell_type": "markdown",
      "source": [
        "#Cleaning of Dataset : "
      ],
      "metadata": {
        "id": "8VY8NKoapocg"
      }
    },
    {
      "cell_type": "code",
      "source": [
        "#Cleaning of Dataset\n",
        "My_df= My_df.na.drop()"
      ],
      "metadata": {
        "id": "A1G51QwpEx0S"
      },
      "execution_count": 18,
      "outputs": []
    },
    {
      "cell_type": "code",
      "source": [
        "for col in My_df.columns:\n",
        "  print(col, \":\", My_df.where(My_df[col].isNull()).count())"
      ],
      "metadata": {
        "colab": {
          "base_uri": "https://localhost:8080/"
        },
        "id": "zO3TasT5FGe-",
        "outputId": "01bea1de-28d5-4de5-be8c-e91ed8775c74"
      },
      "execution_count": 19,
      "outputs": [
        {
          "output_type": "stream",
          "name": "stdout",
          "text": [
            "id : 0\n",
            "name : 0\n",
            "host_id : 0\n",
            "host_identity_verified : 0\n",
            "host_name : 0\n",
            "neighbourhood_group : 0\n",
            "neighbourhood : 0\n",
            "lat : 0\n",
            "long : 0\n",
            "instant_bookable : 0\n",
            "cancellation_policy : 0\n",
            "room_type : 0\n",
            "construction_year : 0\n",
            "price : 0\n",
            "service_fee : 0\n",
            "minimum_nights : 0\n",
            "number_of_reviews : 0\n",
            "last_review : 0\n",
            "reviews_per_month : 0\n",
            "review_rate_number : 0\n",
            "calculated_host_listings_count : 0\n",
            "availability_365 : 0\n",
            "house_rules : 0\n"
          ]
        }
      ]
    },
    {
      "cell_type": "code",
      "source": [
        "My_df.show()"
      ],
      "metadata": {
        "colab": {
          "base_uri": "https://localhost:8080/"
        },
        "id": "BBKZqfccGFVX",
        "outputId": "4eff32c7-17c1-4355-8791-7020540f2a19"
      },
      "execution_count": 20,
      "outputs": [
        {
          "output_type": "stream",
          "name": "stdout",
          "text": [
            "+-------+--------------------+-----------+----------------------+---------+-------------------+------------------+--------+---------+----------------+-------------------+---------------+-----------------+------+------------------+--------------+-----------------+-----------+-----------------+------------------+------------------------------+----------------+--------------------+\n",
            "|     id|                name|    host_id|host_identity_verified|host_name|neighbourhood_group|     neighbourhood|     lat|     long|instant_bookable|cancellation_policy|      room_type|construction_year| price|       service_fee|minimum_nights|number_of_reviews|last_review|reviews_per_month|review_rate_number|calculated_host_listings_count|availability_365|         house_rules|\n",
            "+-------+--------------------+-----------+----------------------+---------+-------------------+------------------+--------+---------+----------------+-------------------+---------------+-----------------+------+------------------+--------------+-----------------+-----------+-----------------+------------------+------------------------------+----------------+--------------------+\n",
            "|1001254|Clean & quiet apt...|80014485718|           unconfirmed| Madaline|           Brooklyn|        Kensington|40.64749|-73.97237|           False|             strict|   Private room|           2020.0| 966.0|             193.0|          10.0|              9.0| 2021-10-19|             0.21|               4.0|                           6.0|           286.0|Clean up and trea...|\n",
            "|1002102|Skylit Midtown Ca...|52335172823|              verified|    Jenna|          Manhattan|           Midtown|40.75362|-73.98377|           False|           moderate|Entire home/apt|           2007.0| 142.0|              28.0|          13.0|             45.0| 2022-05-21|             0.38|               4.0|                           2.0|           228.0|Pet friendly but ...|\n",
            "|1002403|THE VILLAGE OF HA...|78829239556|           unconfirmed|    Elise|          Manhattan|            Harlem|40.80902| -73.9419|            True|           flexible|   Private room|           2005.0| 620.0|             124.0|           3.0|              0.0| 2019-06-14|             0.79|               5.0|                           1.0|           352.0|I encourage you t...|\n",
            "|1002755|               blank|85098326012|           unconfirmed|    Garry|           Brooklyn|      Clinton Hill|40.68514|-73.95976|            True|           moderate|Entire home/apt|           2005.0| 368.0|              74.0|          13.0|            270.0| 2019-07-05|             4.64|               4.0|                           1.0|           322.0|               blank|\n",
            "|1003689|Entire Apt: Spaci...|92037596077|              verified|   Lyndon|          Manhattan|       East Harlem|40.79851|-73.94399|           False|           moderate|Entire home/apt|           2009.0| 204.0|              41.0|          10.0|              9.0| 2018-11-19|              0.1|               3.0|                           1.0|           289.0|Please no smoking...|\n",
            "|1004098|Large Cozy 1 BR A...|45498551794|              verified| Michelle|          Manhattan|       Murray Hill|40.74767|  -73.975|            True|           flexible|Entire home/apt|           2013.0| 577.0|             115.0|           3.0|             74.0| 2019-06-22|             0.59|               3.0|                           1.0|           374.0|No smoking, pleas...|\n",
            "|1004650|     BlissArtsSpace!|61300605564|           unconfirmed|  Alberta|           Brooklyn|Bedford-Stuyvesant|40.68688|-73.95596|           False|           moderate|   Private room|           2015.0|  71.0|              14.0|          13.0|             49.0| 2017-10-05|              0.4|               5.0|                           1.0|           224.0|Please no shoes i...|\n",
            "|1005202|     BlissArtsSpace!|90821839709|           unconfirmed|     Emma|           Brooklyn|Bedford-Stuyvesant|40.68688|-73.95596|           False|           moderate|   Private room|           2009.0|1060.0|             212.0|          13.0|             49.0| 2017-10-05|              0.4|               5.0|                           1.0|           219.0|House Guidelines ...|\n",
            "|1005754|Large Furnished R...|79384379533|              verified|   Evelyn|          Manhattan|    Hell's Kitchen|40.76489|-73.98493|            True|             strict|   Private room|           2005.0|1018.0|             204.0|           2.0|            430.0| 2019-06-24|             3.47|               3.0|                           1.0|           180.0|- Please clean up...|\n",
            "|1006307|Cozy Clean Guest ...|75527839483|           unconfirmed|     Carl|          Manhattan|   Upper West Side|40.80178|-73.96723|           False|             strict|   Private room|           2015.0| 291.0|              58.0|           2.0|            118.0| 2017-07-21|             0.99|               5.0|                           1.0|           375.0|NO SMOKING OR PET...|\n",
            "|1006859|Cute & Cozy Lower...| 1280143094|              verified|  Miranda|          Manhattan|         Chinatown|40.71344|-73.99037|           False|           flexible|Entire home/apt|           2004.0| 319.0|              64.0|           1.0|            160.0| 2019-06-09|             1.33|               3.0|                           4.0|             1.0|               blank|\n",
            "|1007411|Beautiful 1br on ...|18824631834|              verified|     Alan|          Manhattan|   Upper West Side|40.80316|-73.96545|            True|           flexible|Entire home/apt|           2008.0| 606.0|             121.0|           5.0|             53.0| 2019-06-22|             0.43|               4.0|                           1.0|           163.0|My ideal guests w...|\n",
            "|1007964|Central Manhattan...|88136055909|              verified|    blank|          Manhattan|    Hell's Kitchen|40.76076|-73.98867|           False|             strict|   Private room|           2008.0| 714.0|             143.0|           2.0|            188.0| 2019-06-23|              1.5|               4.0|                           1.0|           258.0|- One of the bedr...|\n",
            "|1008516|Lovely Room 1, Ga...|26802410424|              verified|    Darcy|           Brooklyn|       South Slope|40.66829|-73.98779|            True|           moderate|   Private room|           2010.0| 580.0|             116.0|           4.0|            167.0| 2019-06-24|             1.34|               4.0|                           3.0|            47.0|               blank|\n",
            "|1009068|Wonderful Guest B...|88920244552|              verified| Leonardo|          Manhattan|   Upper West Side|40.79826|-73.96113|           False|           flexible|   Private room|           2019.0| 149.0|              30.0|           2.0|            113.0| 2019-07-05|             0.91|               3.0|                           1.0|            68.0|               blank|\n",
            "|1009621|West Village Nest...|46551725984|              verified|   Daniel|          Manhattan|      West Village| 40.7353|-74.00525|            True|           flexible|Entire home/apt|           2018.0| 578.0|124.89402583111317|          13.0|             27.0| 2018-10-31|             0.22|               3.0|                           1.0|           100.0|Arrival time can ...|\n",
            "|1010173|Only 2 stops to M...|62566345680|           unconfirmed|  Heather|           Brooklyn|      Williamsburg|40.70837|-73.95352|            True|           moderate|Entire home/apt|           2009.0| 778.0|124.89402583111317|           2.0|            148.0| 2019-06-29|              1.2|               3.0|                           1.0|           197.0|Absolutely no smo...|\n",
            "|1010725|Perfect for Your ...|80380130347|              verified|     Ryan|           Brooklyn|       Fort Greene|40.69169|-73.97185|            True|           flexible|Entire home/apt|           2006.0| 656.0|124.89402583111317|           2.0|            198.0| 2019-06-28|             1.72|               5.0|                           1.0|            96.0|- Please be mindf...|\n",
            "|1011277|     Chelsea Perfect|73862528370|              verified|  Alberta|          Manhattan|           Chelsea|40.74192|-73.99501|            True|           moderate|   Private room|           2008.0| 460.0|124.89402583111317|           1.0|            260.0| 2019-07-01|             2.12|               3.0|                           1.0|           325.0|               blank|\n",
            "|1011830|Hip Historic Brow...|72145018858|           unconfirmed|   Martin|           Brooklyn|     Crown Heights|40.67592|-73.94694|            True|           moderate|Entire home/apt|           2004.0|1095.0|124.89402583111317|           3.0|             53.0| 2019-06-22|             4.44|               5.0|                           1.0|           345.0|LAUNDRY - Laundry...|\n",
            "+-------+--------------------+-----------+----------------------+---------+-------------------+------------------+--------+---------+----------------+-------------------+---------------+-----------------+------+------------------+--------------+-----------------+-----------+-----------------+------------------+------------------------------+----------------+--------------------+\n",
            "only showing top 20 rows\n",
            "\n"
          ]
        }
      ]
    },
    {
      "cell_type": "markdown",
      "source": [
        "Dropping few **columns**"
      ],
      "metadata": {
        "id": "eTJjiAgoLZbr"
      }
    },
    {
      "cell_type": "code",
      "source": [
        "My_df= My_df.drop(\"id\",\"host_name\",\"host_identity_verified\",\"instant_bookable\",\"cancellation_policy\",\"construction_year\",\"service_fee\",\"last_review\",\"review_rate_number\",\"house_rules\")\n"
      ],
      "metadata": {
        "id": "faL22hsDqDky"
      },
      "execution_count": 21,
      "outputs": []
    },
    {
      "cell_type": "code",
      "source": [
        "My_df.printSchema()"
      ],
      "metadata": {
        "colab": {
          "base_uri": "https://localhost:8080/"
        },
        "id": "GN3sCwNJr-os",
        "outputId": "68b518b5-eb89-448e-d57b-3beaa8ed115d"
      },
      "execution_count": 22,
      "outputs": [
        {
          "output_type": "stream",
          "name": "stdout",
          "text": [
            "root\n",
            " |-- name: string (nullable = true)\n",
            " |-- host_id: string (nullable = true)\n",
            " |-- neighbourhood_group: string (nullable = true)\n",
            " |-- neighbourhood: string (nullable = true)\n",
            " |-- lat: string (nullable = true)\n",
            " |-- long: string (nullable = true)\n",
            " |-- room_type: string (nullable = true)\n",
            " |-- price: string (nullable = true)\n",
            " |-- minimum_nights: string (nullable = true)\n",
            " |-- number_of_reviews: string (nullable = true)\n",
            " |-- reviews_per_month: string (nullable = true)\n",
            " |-- calculated_host_listings_count: double (nullable = true)\n",
            " |-- availability_365: string (nullable = true)\n",
            "\n"
          ]
        }
      ]
    },
    {
      "cell_type": "code",
      "source": [
        "My_df.select(\"name\").distinct().count()"
      ],
      "metadata": {
        "colab": {
          "base_uri": "https://localhost:8080/"
        },
        "id": "hO2mlakssUu5",
        "outputId": "c06c5b1a-a8d4-478a-9112-b74b70182d1b"
      },
      "execution_count": 23,
      "outputs": [
        {
          "output_type": "execute_result",
          "data": {
            "text/plain": [
              "61028"
            ]
          },
          "metadata": {},
          "execution_count": 23
        }
      ]
    },
    {
      "cell_type": "code",
      "source": [
        "My_df.select(\"name\").show()"
      ],
      "metadata": {
        "colab": {
          "base_uri": "https://localhost:8080/"
        },
        "id": "AP8MIBifC3bS",
        "outputId": "8f2bce95-63d5-4c8f-94d7-418e084ac919"
      },
      "execution_count": 24,
      "outputs": [
        {
          "output_type": "stream",
          "name": "stdout",
          "text": [
            "+--------------------+\n",
            "|                name|\n",
            "+--------------------+\n",
            "|Clean & quiet apt...|\n",
            "|Skylit Midtown Ca...|\n",
            "|THE VILLAGE OF HA...|\n",
            "|               blank|\n",
            "|Entire Apt: Spaci...|\n",
            "|Large Cozy 1 BR A...|\n",
            "|     BlissArtsSpace!|\n",
            "|     BlissArtsSpace!|\n",
            "|Large Furnished R...|\n",
            "|Cozy Clean Guest ...|\n",
            "|Cute & Cozy Lower...|\n",
            "|Beautiful 1br on ...|\n",
            "|Central Manhattan...|\n",
            "|Lovely Room 1, Ga...|\n",
            "|Wonderful Guest B...|\n",
            "|West Village Nest...|\n",
            "|Only 2 stops to M...|\n",
            "|Perfect for Your ...|\n",
            "|     Chelsea Perfect|\n",
            "|Hip Historic Brow...|\n",
            "+--------------------+\n",
            "only showing top 20 rows\n",
            "\n"
          ]
        }
      ]
    },
    {
      "cell_type": "markdown",
      "source": [
        "Neighbourhoodgroup-Count"
      ],
      "metadata": {
        "id": "Su1eLGlPYw62"
      }
    },
    {
      "cell_type": "code",
      "source": [
        "My_df.select(\"neighbourhood_group\").distinct().count()"
      ],
      "metadata": {
        "colab": {
          "base_uri": "https://localhost:8080/"
        },
        "id": "FuO1yNJwsydI",
        "outputId": "602049cd-e636-4a55-c6da-b318e2da3600"
      },
      "execution_count": 25,
      "outputs": [
        {
          "output_type": "execute_result",
          "data": {
            "text/plain": [
              "23"
            ]
          },
          "metadata": {},
          "execution_count": 25
        }
      ]
    },
    {
      "cell_type": "code",
      "source": [
        "neighbourhood_group_count= My_df.select(\"neighbourhood_group\").where(My_df.neighbourhood_group.isin(\"Queens\",\"Brooklyn\",\"Staten Island\",\"Manhattan\",\"Bronx\") ).groupby(\"neighbourhood_group\").count()\n",
        "\n",
        "neighbourhood_group_count.show()"
      ],
      "metadata": {
        "colab": {
          "base_uri": "https://localhost:8080/"
        },
        "id": "QpBx1xGIvA6S",
        "outputId": "ebd36d4c-a6b8-446c-f89b-91d5d3447c41"
      },
      "execution_count": 26,
      "outputs": [
        {
          "output_type": "stream",
          "name": "stdout",
          "text": [
            "+-------------------+-----+\n",
            "|neighbourhood_group|count|\n",
            "+-------------------+-----+\n",
            "|             Queens| 9199|\n",
            "|           Brooklyn|27818|\n",
            "|      Staten Island|  646|\n",
            "|          Manhattan|29493|\n",
            "|              Bronx| 1892|\n",
            "+-------------------+-----+\n",
            "\n"
          ]
        }
      ]
    },
    {
      "cell_type": "markdown",
      "source": [
        "Neighbourhood_Group - PriceAverage"
      ],
      "metadata": {
        "id": "4aLneirGZIi3"
      }
    },
    {
      "cell_type": "code",
      "source": [
        "neighbourhood_group_PriceAvg= My_df.select(\"neighbourhood_group\",\"price\").where(My_df.neighbourhood_group.isin(\"Queens\",\"Brooklyn\",\"Staten Island\",\"Manhattan\",\"Bronx\") ).groupby(\"neighbourhood_group\").agg(func.mean(\"price\")).alias(\"AvgPrice\")\n",
        "neighbourhood_group_PriceAvg.show()"
      ],
      "metadata": {
        "colab": {
          "base_uri": "https://localhost:8080/"
        },
        "id": "-9CmBXIC6xTh",
        "outputId": "2bd26baa-2b2b-4076-835c-8eaffc78f1dc"
      },
      "execution_count": 27,
      "outputs": [
        {
          "output_type": "stream",
          "name": "stdout",
          "text": [
            "+-------------------+-----------------+\n",
            "|neighbourhood_group|       avg(price)|\n",
            "+-------------------+-----------------+\n",
            "|             Queens|627.6383618124546|\n",
            "|           Brooklyn|626.3778841892898|\n",
            "|      Staten Island|619.7232325236098|\n",
            "|          Manhattan|622.0589870063856|\n",
            "|              Bronx| 629.893843811093|\n",
            "+-------------------+-----------------+\n",
            "\n"
          ]
        }
      ]
    },
    {
      "cell_type": "markdown",
      "source": [
        "Neighbourhood - Count"
      ],
      "metadata": {
        "id": "VzXVmgewaX32"
      }
    },
    {
      "cell_type": "code",
      "source": [
        "My_df.select(\"neighbourhood\").distinct().count()"
      ],
      "metadata": {
        "colab": {
          "base_uri": "https://localhost:8080/"
        },
        "id": "f4du9HdgA7bl",
        "outputId": "f05137dd-3b03-4d84-908c-83918a8e7542"
      },
      "execution_count": 28,
      "outputs": [
        {
          "output_type": "execute_result",
          "data": {
            "text/plain": [
              "251"
            ]
          },
          "metadata": {},
          "execution_count": 28
        }
      ]
    },
    {
      "cell_type": "code",
      "source": [
        "neighbourhood_count=My_df.groupby(\"neighbourhood\").count().orderBy('count',ascending=False)\n",
        "neighbourhood_count.show()"
      ],
      "metadata": {
        "colab": {
          "base_uri": "https://localhost:8080/"
        },
        "id": "XxaPc6IVAROX",
        "outputId": "09731cf5-dd43-482d-bce2-2832a3be2f8d"
      },
      "execution_count": 29,
      "outputs": [
        {
          "output_type": "stream",
          "name": "stdout",
          "text": [
            "+------------------+-----+\n",
            "|     neighbourhood|count|\n",
            "+------------------+-----+\n",
            "|Bedford-Stuyvesant| 5317|\n",
            "|      Williamsburg| 5070|\n",
            "|            Harlem| 3634|\n",
            "|          Bushwick| 3264|\n",
            "|    Hell's Kitchen| 2807|\n",
            "|   Upper West Side| 2596|\n",
            "|   Upper East Side| 2453|\n",
            "|           Midtown| 2313|\n",
            "|      East Village| 2279|\n",
            "|     Crown Heights| 2166|\n",
            "|           Chelsea| 1555|\n",
            "|       East Harlem| 1544|\n",
            "|        Greenpoint| 1438|\n",
            "|   Lower East Side| 1365|\n",
            "|           Astoria| 1269|\n",
            "|Washington Heights| 1159|\n",
            "|Financial District| 1023|\n",
            "|      West Village|  966|\n",
            "|          Flatbush|  850|\n",
            "|     East Flatbush|  828|\n",
            "+------------------+-----+\n",
            "only showing top 20 rows\n",
            "\n"
          ]
        }
      ]
    },
    {
      "cell_type": "markdown",
      "source": [
        "Neighbourhood - PriceAvg"
      ],
      "metadata": {
        "id": "FimBBw2baq_1"
      }
    },
    {
      "cell_type": "code",
      "source": [
        "neighbourhood_PriceAvg= My_df.groupBy(\"neighbourhood\").agg(func.mean(\"price\")).alias(\"AvgPrice\")\n",
        "neighbourhood_PriceAvg.show()"
      ],
      "metadata": {
        "colab": {
          "base_uri": "https://localhost:8080/"
        },
        "id": "2WDLcqREBojJ",
        "outputId": "a4b0ffa6-e916-4b7f-d55f-9ea683c65e03"
      },
      "execution_count": 30,
      "outputs": [
        {
          "output_type": "stream",
          "name": "stdout",
          "text": [
            "+------------------+-----------------+\n",
            "|     neighbourhood|       avg(price)|\n",
            "+------------------+-----------------+\n",
            "|            Corona| 613.042735042735|\n",
            "|      Henry Street|            613.0|\n",
            "|      Richmondtown|           413.75|\n",
            "|      Prince's Bay|501.1666666666667|\n",
            "|       Westerleigh|435.6666666666667|\n",
            "|        Mill Basin|           736.25|\n",
            "|      Civic Center|633.9516129032259|\n",
            "|        Douglaston|            531.0|\n",
            "|        Mount Hope|685.4418604651163|\n",
            "|            Queens|           2007.5|\n",
            "|       Marble Hill|           524.25|\n",
            "|         Rego Park| 612.549590192846|\n",
            "|     Dyker Heights|            608.6|\n",
            "| Kew Gardens Hills|673.4090909090909|\n",
            "|      Dongan Hills|668.3636363636364|\n",
            "|Financial District|630.7912728642893|\n",
            "|       Bay Terrace|            635.0|\n",
            "|           Midtown|608.1285606142845|\n",
            "|     Fulton Street|            938.0|\n",
            "|   Jackson Heights| 627.380272253864|\n",
            "+------------------+-----------------+\n",
            "only showing top 20 rows\n",
            "\n"
          ]
        }
      ]
    },
    {
      "cell_type": "markdown",
      "source": [
        "Combining Neighbourhood and Neighbourhood group"
      ],
      "metadata": {
        "id": "EtAX163gEUdV"
      }
    },
    {
      "cell_type": "code",
      "source": [
        "neighbourhood_neighbourhoodGroup=My_df.select(My_df[\"neighbourhood_group\"],My_df[\"neighbourhood\"],My_df[\"price\"]).orderBy('neighbourhood_group',ascending=True)\n",
        "neighbourhood_neighbourhoodGroup.show()"
      ],
      "metadata": {
        "colab": {
          "base_uri": "https://localhost:8080/"
        },
        "id": "w-p1VbkZEYq1",
        "outputId": "a16cf7b3-e43d-45b3-9fd3-f0b52958086f"
      },
      "execution_count": 31,
      "outputs": [
        {
          "output_type": "stream",
          "name": "stdout",
          "text": [
            "+-------------------+------------------+---------+\n",
            "|neighbourhood_group|     neighbourhood|    price|\n",
            "+-------------------+------------------+---------+\n",
            "|                  2|                3\"|-73.94134|\n",
            "|              Bronx|         Concourse|   1075.0|\n",
            "|              Bronx|         Soundview|    934.0|\n",
            "|              Bronx|    Williamsbridge|    137.0|\n",
            "|              Bronx|        Mott Haven|    978.0|\n",
            "|              Bronx|         Concourse|    314.0|\n",
            "|              Bronx|      Clason Point|    272.0|\n",
            "|              Bronx|        Mott Haven|    630.0|\n",
            "|              Bronx|         Concourse|   1180.0|\n",
            "|              Bronx|       Morris Park|    358.0|\n",
            "|              Bronx|       Morris Park|    235.0|\n",
            "|              Bronx|           Belmont|    682.0|\n",
            "|              Bronx|         Concourse|    737.0|\n",
            "|              Bronx|        Mott Haven|    268.0|\n",
            "|              Bronx|       Port Morris|    265.0|\n",
            "|              Bronx|Westchester Square|    681.0|\n",
            "|              Bronx|       Port Morris|    284.0|\n",
            "|              Bronx|       Port Morris|    647.0|\n",
            "|              Bronx|       Port Morris|    357.0|\n",
            "|              Bronx|           Fordham|    840.0|\n",
            "+-------------------+------------------+---------+\n",
            "only showing top 20 rows\n",
            "\n"
          ]
        }
      ]
    },
    {
      "cell_type": "markdown",
      "source": [
        "HostID - Count"
      ],
      "metadata": {
        "id": "0rviCoQMcMfY"
      }
    },
    {
      "cell_type": "code",
      "source": [
        "My_df.select(\"host_id\").distinct().count()"
      ],
      "metadata": {
        "colab": {
          "base_uri": "https://localhost:8080/"
        },
        "id": "M9rVA9JJGT5b",
        "outputId": "8773f2fa-cc98-45e2-c54f-0eae2f3e0d4f"
      },
      "execution_count": 32,
      "outputs": [
        {
          "output_type": "execute_result",
          "data": {
            "text/plain": [
              "69065"
            ]
          },
          "metadata": {},
          "execution_count": 32
        }
      ]
    },
    {
      "cell_type": "code",
      "source": [
        "host_id_count=My_df.groupBy(\"host_id\").count().orderBy('count',ascending=False)\n",
        "host_id_count.show()"
      ],
      "metadata": {
        "colab": {
          "base_uri": "https://localhost:8080/"
        },
        "id": "cX_rh9FMGnqG",
        "outputId": "17cde3f5-1c46-485a-c42f-434f850a8d0d"
      },
      "execution_count": 34,
      "outputs": [
        {
          "output_type": "stream",
          "name": "stdout",
          "text": [
            "+-----------+-----+\n",
            "|    host_id|count|\n",
            "+-----------+-----+\n",
            "|   verified|    3|\n",
            "|29531702698|    2|\n",
            "|       cozy|    2|\n",
            "|68958967655|    1|\n",
            "| 4007964313|    1|\n",
            "|43945171386|    1|\n",
            "|68778778568|    1|\n",
            "|85791349998|    1|\n",
            "|91819937803|    1|\n",
            "| 4565576303|    1|\n",
            "|64602961286|    1|\n",
            "|11609383313|    1|\n",
            "|75082250321|    1|\n",
            "|19470616481|    1|\n",
            "|66739732370|    1|\n",
            "|38544479718|    1|\n",
            "|69103209663|    1|\n",
            "|16278582059|    1|\n",
            "|83146353759|    1|\n",
            "|69474619521|    1|\n",
            "+-----------+-----+\n",
            "only showing top 20 rows\n",
            "\n"
          ]
        }
      ]
    },
    {
      "cell_type": "markdown",
      "source": [
        "RoomType - Count"
      ],
      "metadata": {
        "id": "m-BNuAqTchsl"
      }
    },
    {
      "cell_type": "code",
      "source": [
        "room_typeCount=My_df.where(My_df.room_type.isin(\"Private room\",\"Shared room\",\"Entire home/apt\")).groupBy(My_df[\"room_type\"]).count().orderBy('count',ascending=True)\n",
        "room_typeCount.show()"
      ],
      "metadata": {
        "colab": {
          "base_uri": "https://localhost:8080/"
        },
        "id": "Bcp99F6NJBsD",
        "outputId": "e91548d2-c4f8-418d-95e4-87df39310263"
      },
      "execution_count": 35,
      "outputs": [
        {
          "output_type": "stream",
          "name": "stdout",
          "text": [
            "+---------------+-----+\n",
            "|      room_type|count|\n",
            "+---------------+-----+\n",
            "|    Shared room| 1468|\n",
            "|   Private room|30364|\n",
            "|Entire home/apt|37101|\n",
            "+---------------+-----+\n",
            "\n"
          ]
        }
      ]
    },
    {
      "cell_type": "markdown",
      "source": [
        "Room - AvgPrice"
      ],
      "metadata": {
        "id": "MrYhsc0ddEyj"
      }
    },
    {
      "cell_type": "code",
      "source": [
        "room_AvgPrice=My_df.agg(func.mean('price').alias('Avgprice'))\n",
        "room_AvgPrice.show()"
      ],
      "metadata": {
        "colab": {
          "base_uri": "https://localhost:8080/"
        },
        "id": "5RiosAUIPnvw",
        "outputId": "4e849b61-f8bd-4138-97dc-4ed8dadf8efd"
      },
      "execution_count": 36,
      "outputs": [
        {
          "output_type": "stream",
          "name": "stdout",
          "text": [
            "+-----------------+\n",
            "|         Avgprice|\n",
            "+-----------------+\n",
            "|624.9150989782044|\n",
            "+-----------------+\n",
            "\n"
          ]
        }
      ]
    },
    {
      "cell_type": "markdown",
      "source": [
        "RoomType - AvgPrice"
      ],
      "metadata": {
        "id": "3QPnNxuqdHtg"
      }
    },
    {
      "cell_type": "code",
      "source": [
        "room_typeAvgPrice=My_df.where(My_df.room_type.isin(\"Private room\",\"Shared room\",\"Entire home/apt\")).groupBy(\"room_type\").agg(func.mean('price').alias('Avgprice'))\n",
        "room_typeAvgPrice.show()"
      ],
      "metadata": {
        "colab": {
          "base_uri": "https://localhost:8080/"
        },
        "id": "JiHzU7H9QMio",
        "outputId": "6047e0a8-2eb8-4feb-b5ca-a2766dff76ab"
      },
      "execution_count": 37,
      "outputs": [
        {
          "output_type": "stream",
          "name": "stdout",
          "text": [
            "+---------------+-----------------+\n",
            "|      room_type|         Avgprice|\n",
            "+---------------+-----------------+\n",
            "|    Shared room|624.1484254500489|\n",
            "|Entire home/apt|624.4195887240523|\n",
            "|   Private room|624.9912820234102|\n",
            "+---------------+-----------------+\n",
            "\n"
          ]
        }
      ]
    },
    {
      "cell_type": "markdown",
      "source": [
        "NeighbourhoodGroup - RoomType - Count"
      ],
      "metadata": {
        "id": "rs1NdRnyd2Oj"
      }
    },
    {
      "cell_type": "code",
      "source": [
        "neighGroup_roomType=My_df.select(My_df[\"neighbourhood_group\"],My_df[\"room_type\"]).where(My_df.room_type.isin(\"Private room\",\"Shared room\",\"Entire home/apt\")).groupBy(\"neighbourhood_group\",\"room_type\").count().orderBy(\"neighbourhood_group\",ascending=True)\n",
        "neighGroup_roomType.show()"
      ],
      "metadata": {
        "colab": {
          "base_uri": "https://localhost:8080/"
        },
        "id": "ZMZULTZbSk-X",
        "outputId": "e0492b4f-92f5-4d62-915a-8265086adf34"
      },
      "execution_count": 38,
      "outputs": [
        {
          "output_type": "stream",
          "name": "stdout",
          "text": [
            "+-------------------+---------------+-----+\n",
            "|neighbourhood_group|      room_type|count|\n",
            "+-------------------+---------------+-----+\n",
            "|              Bronx|    Shared room|   82|\n",
            "|              Bronx|Entire home/apt|  754|\n",
            "|              Bronx|   Private room| 1056|\n",
            "|           Brooklyn|   Private room|13183|\n",
            "|           Brooklyn|Entire home/apt|14103|\n",
            "|           Brooklyn|    Shared room|  525|\n",
            "|          Manhattan|    Shared room|  600|\n",
            "|          Manhattan|   Private room|10585|\n",
            "|          Manhattan|Entire home/apt|18208|\n",
            "|             Queens|    Shared room|  250|\n",
            "|             Queens|   Private room| 5244|\n",
            "|             Queens|Entire home/apt| 3697|\n",
            "|      Staten Island|   Private room|  296|\n",
            "|      Staten Island|    Shared room|   11|\n",
            "|      Staten Island|Entire home/apt|  339|\n",
            "+-------------------+---------------+-----+\n",
            "\n"
          ]
        }
      ]
    },
    {
      "cell_type": "markdown",
      "source": [
        "NeighbourhoodGroup - RoomType - AvgPrice"
      ],
      "metadata": {
        "id": "sJQ-vg30d-tX"
      }
    },
    {
      "cell_type": "code",
      "source": [
        "neighGroup_roomType_AvgPrice=My_df.select(My_df[\"neighbourhood_group\"],My_df[\"room_type\"],My_df[\"price\"]).where(My_df.room_type.isin(\"Private room\",\"Shared room\",\"Entire home/apt\")).groupBy(\"neighbourhood_group\",\"room_type\").agg(func.mean('price').alias('Avgprice')).orderBy(\"neighbourhood_group\",ascending=True)\n",
        "neighGroup_roomType_AvgPrice.show()\n"
      ],
      "metadata": {
        "colab": {
          "base_uri": "https://localhost:8080/"
        },
        "id": "GAnX32_YUIYw",
        "outputId": "26e4f4f5-c28b-4a47-892d-b5684a582f5c"
      },
      "execution_count": 39,
      "outputs": [
        {
          "output_type": "stream",
          "name": "stdout",
          "text": [
            "+-------------------+---------------+-----------------+\n",
            "|neighbourhood_group|      room_type|         Avgprice|\n",
            "+-------------------+---------------+-----------------+\n",
            "|              Bronx|    Shared room| 574.719512195122|\n",
            "|              Bronx|   Private room|635.6921820836515|\n",
            "|              Bronx|Entire home/apt|627.7734856899893|\n",
            "|           Brooklyn|   Private room|626.2824385256538|\n",
            "|           Brooklyn|Entire home/apt| 626.531512085622|\n",
            "|           Brooklyn|    Shared room|623.5098673341331|\n",
            "|          Manhattan|    Shared room|625.8270136837532|\n",
            "|          Manhattan|   Private room|621.9314844074574|\n",
            "|          Manhattan|Entire home/apt|621.6804554655175|\n",
            "|             Queens|    Shared room|          634.968|\n",
            "|             Queens|Entire home/apt|628.5089447960758|\n",
            "|             Queens|   Private room|626.9717241421965|\n",
            "|      Staten Island|   Private room|603.6434869600268|\n",
            "|      Staten Island|    Shared room|685.6363636363636|\n",
            "|      Staten Island|Entire home/apt|631.6245901772389|\n",
            "+-------------------+---------------+-----------------+\n",
            "\n"
          ]
        }
      ]
    },
    {
      "cell_type": "markdown",
      "source": [
        "Neighbourhood - RoomType - Count"
      ],
      "metadata": {
        "id": "6sb_gkA2eOZg"
      }
    },
    {
      "cell_type": "code",
      "source": [
        "neigh_roomType=My_df.select(My_df[\"neighbourhood\"],My_df[\"room_type\"]).where(My_df.room_type.isin(\"Private room\",\"Shared room\",\"Entire home/apt\")).groupBy(\"neighbourhood\",\"room_type\").count().orderBy(\"neighbourhood\",ascending=True)\n",
        "neigh_roomType.show()"
      ],
      "metadata": {
        "colab": {
          "base_uri": "https://localhost:8080/"
        },
        "id": "4VboP9cAaB4T",
        "outputId": "d9f105e4-dec9-4a18-b00a-b4bcc5270bd3"
      },
      "execution_count": 40,
      "outputs": [
        {
          "output_type": "stream",
          "name": "stdout",
          "text": [
            "+-----------------+---------------+-----+\n",
            "|    neighbourhood|      room_type|count|\n",
            "+-----------------+---------------+-----+\n",
            "|      21st Street|Entire home/apt|    1|\n",
            "|       5th Avenue|   Private room|    1|\n",
            "|         Allerton|   Private room|   38|\n",
            "|         Allerton|Entire home/apt|   34|\n",
            "|    Arden Heights|Entire home/apt|    5|\n",
            "|    Arden Heights|   Private room|    1|\n",
            "|         Arrochar|Entire home/apt|   19|\n",
            "|         Arrochar|   Private room|   12|\n",
            "|          Arverne|    Shared room|    4|\n",
            "|          Arverne|Entire home/apt|  102|\n",
            "|          Arverne|   Private room|   46|\n",
            "|          Astoria|Entire home/apt|  523|\n",
            "|          Astoria|    Shared room|   28|\n",
            "|          Astoria|   Private room|  718|\n",
            "|         Avenue A|   Private room|    1|\n",
            "|       Bath Beach|   Private room|   16|\n",
            "|       Bath Beach|Entire home/apt|   16|\n",
            "|Battery Park City|   Private room|   23|\n",
            "|Battery Park City|Entire home/apt|   58|\n",
            "|Battery Park City|    Shared room|    3|\n",
            "+-----------------+---------------+-----+\n",
            "only showing top 20 rows\n",
            "\n"
          ]
        }
      ]
    },
    {
      "cell_type": "markdown",
      "source": [
        "Neighbourhood - RoomType - AvgPrice"
      ],
      "metadata": {
        "id": "JkeB7JJrem_X"
      }
    },
    {
      "cell_type": "code",
      "source": [
        "neigh_roomType_AvgPrice=My_df.select(My_df[\"neighbourhood\"],My_df[\"room_type\"],My_df[\"price\"]).where(My_df.room_type.isin(\"Private room\",\"Shared room\",\"Entire home/apt\")).groupBy(\"neighbourhood\",\"room_type\").agg(func.mean('price').alias('Avgprice')).orderBy(\"neighbourhood\",ascending=True)\n",
        "neigh_roomType_AvgPrice.show()"
      ],
      "metadata": {
        "colab": {
          "base_uri": "https://localhost:8080/"
        },
        "id": "ZUnAUSRlaxIX",
        "outputId": "0875e114-f8bb-4730-b52c-ced5f224aeb4"
      },
      "execution_count": 41,
      "outputs": [
        {
          "output_type": "stream",
          "name": "stdout",
          "text": [
            "+-----------------+---------------+-----------------+\n",
            "|    neighbourhood|      room_type|         Avgprice|\n",
            "+-----------------+---------------+-----------------+\n",
            "|      21st Street|Entire home/apt|           1111.0|\n",
            "|       5th Avenue|   Private room|            793.0|\n",
            "|         Allerton|   Private room|699.8088439495785|\n",
            "|         Allerton|Entire home/apt|546.4411764705883|\n",
            "|    Arden Heights|Entire home/apt|            787.8|\n",
            "|    Arden Heights|   Private room|            604.0|\n",
            "|         Arrochar|   Private room|495.9166666666667|\n",
            "|         Arrochar|Entire home/apt| 675.880845793894|\n",
            "|          Arverne|    Shared room|           988.25|\n",
            "|          Arverne|Entire home/apt|            651.0|\n",
            "|          Arverne|   Private room|653.7391304347826|\n",
            "|          Astoria|    Shared room|617.4285714285714|\n",
            "|          Astoria|Entire home/apt|621.5190671896137|\n",
            "|          Astoria|   Private room|641.4626855295988|\n",
            "|         Avenue A|   Private room|            486.0|\n",
            "|       Bath Beach|Entire home/apt|          742.875|\n",
            "|       Bath Beach|   Private room|         638.6875|\n",
            "|Battery Park City|   Private room|533.7826086956521|\n",
            "|Battery Park City|Entire home/apt|593.1551724137931|\n",
            "|Battery Park City|    Shared room|            547.0|\n",
            "+-----------------+---------------+-----------------+\n",
            "only showing top 20 rows\n",
            "\n"
          ]
        }
      ]
    },
    {
      "cell_type": "markdown",
      "source": [
        "Minimun Nights - Count"
      ],
      "metadata": {
        "id": "1WtXiGDcl45j"
      }
    },
    {
      "cell_type": "code",
      "source": [
        "min_night_count=My_df.groupBy(\"minimum_nights\").count().orderBy('count',ascending=False)\n",
        "min_night_count.show()"
      ],
      "metadata": {
        "colab": {
          "base_uri": "https://localhost:8080/"
        },
        "id": "Ech1ox9ia8RT",
        "outputId": "669667bd-0f4d-45db-ede0-b2543b199c90"
      },
      "execution_count": 42,
      "outputs": [
        {
          "output_type": "stream",
          "name": "stdout",
          "text": [
            "+--------------+-----+\n",
            "|minimum_nights|count|\n",
            "+--------------+-----+\n",
            "|           1.0|17173|\n",
            "|           2.0|15177|\n",
            "|          13.0|12903|\n",
            "|           3.0|10891|\n",
            "|           4.0| 4268|\n",
            "|           5.0| 3966|\n",
            "|           7.0| 2624|\n",
            "|           6.0| 1021|\n",
            "|          10.0|  612|\n",
            "|           8.0|  160|\n",
            "|          12.0|  106|\n",
            "|           9.0|  100|\n",
            "|          11.0|   40|\n",
            "|           0.0|   10|\n",
            "|         173.0|    1|\n",
            "|         185.0|    1|\n",
            "|         319.0|    1|\n",
            "|         230.0|    1|\n",
            "|         924.0|    1|\n",
            "|          48.0|    1|\n",
            "+--------------+-----+\n",
            "only showing top 20 rows\n",
            "\n"
          ]
        }
      ]
    },
    {
      "cell_type": "markdown",
      "source": [
        "Number of Reviews - AveragePrice"
      ],
      "metadata": {
        "id": "OxgXK5FxmE4a"
      }
    },
    {
      "cell_type": "code",
      "source": [
        "no_of_reviews_AvgPrice=My_df.groupBy(\"number_of_reviews\").agg(func.mean(\"price\").alias(\"AvgPrice\")).orderBy(\"number_of_reviews\",ascending=True)\n",
        "no_of_reviews_AvgPrice.show()\n"
      ],
      "metadata": {
        "colab": {
          "base_uri": "https://localhost:8080/"
        },
        "id": "T2SPJuA3cenc",
        "outputId": "1435db3a-ae60-45e1-8c3a-2c0af7191cf5"
      },
      "execution_count": 43,
      "outputs": [
        {
          "output_type": "stream",
          "name": "stdout",
          "text": [
            "+-----------------+-----------------+\n",
            "|number_of_reviews|         AvgPrice|\n",
            "+-----------------+-----------------+\n",
            "|              0.0| 621.160101553896|\n",
            "|              1.0| 627.795838511982|\n",
            "|             10.0|635.7879867691727|\n",
            "|            100.0|649.2588235294118|\n",
            "|            101.0|664.7301587301587|\n",
            "|           1010.0|           1097.0|\n",
            "|            102.0|682.3023255813954|\n",
            "|           1024.0|            121.0|\n",
            "|            103.0|            600.4|\n",
            "|            104.0|654.8036775698374|\n",
            "|            105.0|556.6918271026665|\n",
            "|            106.0|638.3846153846154|\n",
            "|            107.0|673.9845862205364|\n",
            "|            108.0|645.2179487179487|\n",
            "|            109.0|671.4905660377359|\n",
            "|             11.0|630.1375959310744|\n",
            "|            110.0|597.3636363636364|\n",
            "|            111.0|           621.32|\n",
            "|            112.0|602.3157894736842|\n",
            "|            113.0|            593.0|\n",
            "+-----------------+-----------------+\n",
            "only showing top 20 rows\n",
            "\n"
          ]
        }
      ]
    },
    {
      "cell_type": "markdown",
      "source": [
        "NeighbourhoodGroup - Number of reviews"
      ],
      "metadata": {
        "id": "lUjZbeohmbhj"
      }
    },
    {
      "cell_type": "code",
      "source": [
        "neighGroup_no_of_reviews= My_df.groupBy(\"neighbourhood_group\").agg(func.mean(\"number_of_reviews\").alias(\"no_of_reviews\")).orderBy(\"no_of_reviews\",ascending=False)\n",
        "neighGroup_no_of_reviews.show()"
      ],
      "metadata": {
        "colab": {
          "base_uri": "https://localhost:8080/"
        },
        "id": "S2b-eVN5ep8w",
        "outputId": "d0bb05ff-e59a-4dcc-ba91-c3f10d66e486"
      },
      "execution_count": 44,
      "outputs": [
        {
          "output_type": "stream",
          "name": "stdout",
          "text": [
            "+-------------------+------------------+\n",
            "|neighbourhood_group|     no_of_reviews|\n",
            "+-------------------+------------------+\n",
            "|        unconfirmed|             168.5|\n",
            "|           verified| 95.33333333333333|\n",
            "|      Staten Island|37.371517027863774|\n",
            "|             Queens|32.937167083378625|\n",
            "|              Bronx| 31.41966173361522|\n",
            "|           Brooklyn| 29.61399094111726|\n",
            "|          Manhattan|24.498898043603567|\n",
            "|              Nadia|              13.0|\n",
            "|            Matthew|              10.0|\n",
            "|           Katerine|               3.0|\n",
            "|             Carmen|               2.0|\n",
            "|      William Hakan|               2.0|\n",
            "|             Evelyn|               2.0|\n",
            "|             Krista|               2.0|\n",
            "|             Sidney|               2.0|\n",
            "|              Henry|               2.0|\n",
            "|               Seth|               1.0|\n",
            "|              Elien|               1.0|\n",
            "|         Mott Haven|              null|\n",
            "|                  2|              null|\n",
            "+-------------------+------------------+\n",
            "only showing top 20 rows\n",
            "\n"
          ]
        }
      ]
    },
    {
      "cell_type": "markdown",
      "source": [
        "Neighbourhood - Number of reviews"
      ],
      "metadata": {
        "id": "6zDa6iLImq0a"
      }
    },
    {
      "cell_type": "code",
      "source": [
        "neighbourhood_no_of_reviews= My_df.groupBy(\"neighbourhood\").agg(func.mean(\"number_of_reviews\").alias(\"no_of_reviews\")).orderBy(\"no_of_reviews\",ascending=False)\n",
        "neighbourhood_no_of_reviews.show()"
      ],
      "metadata": {
        "colab": {
          "base_uri": "https://localhost:8080/"
        },
        "id": "mhpbsihphkdd",
        "outputId": "ad31e30c-5a57-4120-f81c-445b079267e0"
      },
      "execution_count": 45,
      "outputs": [
        {
          "output_type": "stream",
          "name": "stdout",
          "text": [
            "+-------------------+------------------+\n",
            "|      neighbourhood|     no_of_reviews|\n",
            "+-------------------+------------------+\n",
            "|          RoomPicks|             185.0|\n",
            "|       Henry Street|             172.0|\n",
            "|                Ben|             152.0|\n",
            "|   East 47th Street|             136.0|\n",
            "|               Greg|             133.0|\n",
            "|           Huguenot|             110.5|\n",
            "|           Avenue A|             109.0|\n",
            "|       Richmondtown|             95.75|\n",
            "|        Silver Lake|              94.0|\n",
            "|      East Elmhurst| 78.89736070381231|\n",
            "|        Eltingville| 67.33333333333333|\n",
            "|    Manhattan Beach| 64.15384615384616|\n",
            "|           Woodlawn| 61.64705882352941|\n",
            "|Springfield Gardens|60.567708333333336|\n",
            "|           Allerton| 59.09722222222222|\n",
            "|            Clifton|59.035714285714285|\n",
            "|              DUMBO|57.829787234042556|\n",
            "|       New Brighton| 53.76923076923077|\n",
            "|            Jamaica|  53.0551724137931|\n",
            "|         St. George| 52.54651162790697|\n",
            "+-------------------+------------------+\n",
            "only showing top 20 rows\n",
            "\n"
          ]
        }
      ]
    },
    {
      "cell_type": "markdown",
      "source": [
        "Machine Learning model implementation"
      ],
      "metadata": {
        "id": "wU1xGJhQm8NH"
      }
    },
    {
      "cell_type": "markdown",
      "source": [
        "Seting up dataframe for ML"
      ],
      "metadata": {
        "id": "sIbAN2e8v39C"
      }
    },
    {
      "cell_type": "code",
      "source": [
        "My_df.columns"
      ],
      "metadata": {
        "colab": {
          "base_uri": "https://localhost:8080/"
        },
        "id": "j_M_WkJ9zM7R",
        "outputId": "66c8b880-c9a4-4b21-8a9a-c399ce757abd"
      },
      "execution_count": 46,
      "outputs": [
        {
          "output_type": "execute_result",
          "data": {
            "text/plain": [
              "['name',\n",
              " 'host_id',\n",
              " 'neighbourhood_group',\n",
              " 'neighbourhood',\n",
              " 'lat',\n",
              " 'long',\n",
              " 'room_type',\n",
              " 'price',\n",
              " 'minimum_nights',\n",
              " 'number_of_reviews',\n",
              " 'reviews_per_month',\n",
              " 'calculated_host_listings_count',\n",
              " 'availability_365']"
            ]
          },
          "metadata": {},
          "execution_count": 46
        }
      ]
    },
    {
      "cell_type": "code",
      "source": [
        "My_df.show()"
      ],
      "metadata": {
        "colab": {
          "base_uri": "https://localhost:8080/"
        },
        "id": "EcAQRFlQZWQS",
        "outputId": "5284a295-7013-4396-a08b-c5bb5667123c"
      },
      "execution_count": 47,
      "outputs": [
        {
          "output_type": "stream",
          "name": "stdout",
          "text": [
            "+--------------------+-----------+-------------------+------------------+--------+---------+---------------+------+--------------+-----------------+-----------------+------------------------------+----------------+\n",
            "|                name|    host_id|neighbourhood_group|     neighbourhood|     lat|     long|      room_type| price|minimum_nights|number_of_reviews|reviews_per_month|calculated_host_listings_count|availability_365|\n",
            "+--------------------+-----------+-------------------+------------------+--------+---------+---------------+------+--------------+-----------------+-----------------+------------------------------+----------------+\n",
            "|Clean & quiet apt...|80014485718|           Brooklyn|        Kensington|40.64749|-73.97237|   Private room| 966.0|          10.0|              9.0|             0.21|                           6.0|           286.0|\n",
            "|Skylit Midtown Ca...|52335172823|          Manhattan|           Midtown|40.75362|-73.98377|Entire home/apt| 142.0|          13.0|             45.0|             0.38|                           2.0|           228.0|\n",
            "|THE VILLAGE OF HA...|78829239556|          Manhattan|            Harlem|40.80902| -73.9419|   Private room| 620.0|           3.0|              0.0|             0.79|                           1.0|           352.0|\n",
            "|               blank|85098326012|           Brooklyn|      Clinton Hill|40.68514|-73.95976|Entire home/apt| 368.0|          13.0|            270.0|             4.64|                           1.0|           322.0|\n",
            "|Entire Apt: Spaci...|92037596077|          Manhattan|       East Harlem|40.79851|-73.94399|Entire home/apt| 204.0|          10.0|              9.0|              0.1|                           1.0|           289.0|\n",
            "|Large Cozy 1 BR A...|45498551794|          Manhattan|       Murray Hill|40.74767|  -73.975|Entire home/apt| 577.0|           3.0|             74.0|             0.59|                           1.0|           374.0|\n",
            "|     BlissArtsSpace!|61300605564|           Brooklyn|Bedford-Stuyvesant|40.68688|-73.95596|   Private room|  71.0|          13.0|             49.0|              0.4|                           1.0|           224.0|\n",
            "|     BlissArtsSpace!|90821839709|           Brooklyn|Bedford-Stuyvesant|40.68688|-73.95596|   Private room|1060.0|          13.0|             49.0|              0.4|                           1.0|           219.0|\n",
            "|Large Furnished R...|79384379533|          Manhattan|    Hell's Kitchen|40.76489|-73.98493|   Private room|1018.0|           2.0|            430.0|             3.47|                           1.0|           180.0|\n",
            "|Cozy Clean Guest ...|75527839483|          Manhattan|   Upper West Side|40.80178|-73.96723|   Private room| 291.0|           2.0|            118.0|             0.99|                           1.0|           375.0|\n",
            "|Cute & Cozy Lower...| 1280143094|          Manhattan|         Chinatown|40.71344|-73.99037|Entire home/apt| 319.0|           1.0|            160.0|             1.33|                           4.0|             1.0|\n",
            "|Beautiful 1br on ...|18824631834|          Manhattan|   Upper West Side|40.80316|-73.96545|Entire home/apt| 606.0|           5.0|             53.0|             0.43|                           1.0|           163.0|\n",
            "|Central Manhattan...|88136055909|          Manhattan|    Hell's Kitchen|40.76076|-73.98867|   Private room| 714.0|           2.0|            188.0|              1.5|                           1.0|           258.0|\n",
            "|Lovely Room 1, Ga...|26802410424|           Brooklyn|       South Slope|40.66829|-73.98779|   Private room| 580.0|           4.0|            167.0|             1.34|                           3.0|            47.0|\n",
            "|Wonderful Guest B...|88920244552|          Manhattan|   Upper West Side|40.79826|-73.96113|   Private room| 149.0|           2.0|            113.0|             0.91|                           1.0|            68.0|\n",
            "|West Village Nest...|46551725984|          Manhattan|      West Village| 40.7353|-74.00525|Entire home/apt| 578.0|          13.0|             27.0|             0.22|                           1.0|           100.0|\n",
            "|Only 2 stops to M...|62566345680|           Brooklyn|      Williamsburg|40.70837|-73.95352|Entire home/apt| 778.0|           2.0|            148.0|              1.2|                           1.0|           197.0|\n",
            "|Perfect for Your ...|80380130347|           Brooklyn|       Fort Greene|40.69169|-73.97185|Entire home/apt| 656.0|           2.0|            198.0|             1.72|                           1.0|            96.0|\n",
            "|     Chelsea Perfect|73862528370|          Manhattan|           Chelsea|40.74192|-73.99501|   Private room| 460.0|           1.0|            260.0|             2.12|                           1.0|           325.0|\n",
            "|Hip Historic Brow...|72145018858|           Brooklyn|     Crown Heights|40.67592|-73.94694|Entire home/apt|1095.0|           3.0|             53.0|             4.44|                           1.0|           345.0|\n",
            "+--------------------+-----------+-------------------+------------------+--------+---------+---------------+------+--------------+-----------------+-----------------+------------------------------+----------------+\n",
            "only showing top 20 rows\n",
            "\n"
          ]
        }
      ]
    },
    {
      "cell_type": "code",
      "source": [
        "from pyspark.sql.types import IntegerType\n",
        "My_df = My_df.withColumn(\"price\",My_df[\"price\"].cast(IntegerType()))\n"
      ],
      "metadata": {
        "id": "QhvTvXpus21C"
      },
      "execution_count": 49,
      "outputs": []
    },
    {
      "cell_type": "code",
      "source": [
        "from pyspark.ml.feature import StringIndexer\n",
        "My_df = StringIndexer(inputCol='neighbourhood_group', outputCol='neighbourhood_groupNEW').fit(My_df).transform(My_df)\n",
        "\n",
        "My_df.show()"
      ],
      "metadata": {
        "colab": {
          "base_uri": "https://localhost:8080/"
        },
        "id": "xa8vAjoat8h6",
        "outputId": "5a09d9b9-fefe-43ff-9500-c6161fd59855"
      },
      "execution_count": 50,
      "outputs": [
        {
          "output_type": "stream",
          "name": "stdout",
          "text": [
            "+--------------------+-----------+-------------------+------------------+--------+---------+---------------+-----+--------------+-----------------+-----------------+------------------------------+----------------+----------------------+\n",
            "|                name|    host_id|neighbourhood_group|     neighbourhood|     lat|     long|      room_type|price|minimum_nights|number_of_reviews|reviews_per_month|calculated_host_listings_count|availability_365|neighbourhood_groupNEW|\n",
            "+--------------------+-----------+-------------------+------------------+--------+---------+---------------+-----+--------------+-----------------+-----------------+------------------------------+----------------+----------------------+\n",
            "|Clean & quiet apt...|80014485718|           Brooklyn|        Kensington|40.64749|-73.97237|   Private room|  966|          10.0|              9.0|             0.21|                           6.0|           286.0|                   1.0|\n",
            "|Skylit Midtown Ca...|52335172823|          Manhattan|           Midtown|40.75362|-73.98377|Entire home/apt|  142|          13.0|             45.0|             0.38|                           2.0|           228.0|                   0.0|\n",
            "|THE VILLAGE OF HA...|78829239556|          Manhattan|            Harlem|40.80902| -73.9419|   Private room|  620|           3.0|              0.0|             0.79|                           1.0|           352.0|                   0.0|\n",
            "|               blank|85098326012|           Brooklyn|      Clinton Hill|40.68514|-73.95976|Entire home/apt|  368|          13.0|            270.0|             4.64|                           1.0|           322.0|                   1.0|\n",
            "|Entire Apt: Spaci...|92037596077|          Manhattan|       East Harlem|40.79851|-73.94399|Entire home/apt|  204|          10.0|              9.0|              0.1|                           1.0|           289.0|                   0.0|\n",
            "|Large Cozy 1 BR A...|45498551794|          Manhattan|       Murray Hill|40.74767|  -73.975|Entire home/apt|  577|           3.0|             74.0|             0.59|                           1.0|           374.0|                   0.0|\n",
            "|     BlissArtsSpace!|61300605564|           Brooklyn|Bedford-Stuyvesant|40.68688|-73.95596|   Private room|   71|          13.0|             49.0|              0.4|                           1.0|           224.0|                   1.0|\n",
            "|     BlissArtsSpace!|90821839709|           Brooklyn|Bedford-Stuyvesant|40.68688|-73.95596|   Private room| 1060|          13.0|             49.0|              0.4|                           1.0|           219.0|                   1.0|\n",
            "|Large Furnished R...|79384379533|          Manhattan|    Hell's Kitchen|40.76489|-73.98493|   Private room| 1018|           2.0|            430.0|             3.47|                           1.0|           180.0|                   0.0|\n",
            "|Cozy Clean Guest ...|75527839483|          Manhattan|   Upper West Side|40.80178|-73.96723|   Private room|  291|           2.0|            118.0|             0.99|                           1.0|           375.0|                   0.0|\n",
            "|Cute & Cozy Lower...| 1280143094|          Manhattan|         Chinatown|40.71344|-73.99037|Entire home/apt|  319|           1.0|            160.0|             1.33|                           4.0|             1.0|                   0.0|\n",
            "|Beautiful 1br on ...|18824631834|          Manhattan|   Upper West Side|40.80316|-73.96545|Entire home/apt|  606|           5.0|             53.0|             0.43|                           1.0|           163.0|                   0.0|\n",
            "|Central Manhattan...|88136055909|          Manhattan|    Hell's Kitchen|40.76076|-73.98867|   Private room|  714|           2.0|            188.0|              1.5|                           1.0|           258.0|                   0.0|\n",
            "|Lovely Room 1, Ga...|26802410424|           Brooklyn|       South Slope|40.66829|-73.98779|   Private room|  580|           4.0|            167.0|             1.34|                           3.0|            47.0|                   1.0|\n",
            "|Wonderful Guest B...|88920244552|          Manhattan|   Upper West Side|40.79826|-73.96113|   Private room|  149|           2.0|            113.0|             0.91|                           1.0|            68.0|                   0.0|\n",
            "|West Village Nest...|46551725984|          Manhattan|      West Village| 40.7353|-74.00525|Entire home/apt|  578|          13.0|             27.0|             0.22|                           1.0|           100.0|                   0.0|\n",
            "|Only 2 stops to M...|62566345680|           Brooklyn|      Williamsburg|40.70837|-73.95352|Entire home/apt|  778|           2.0|            148.0|              1.2|                           1.0|           197.0|                   1.0|\n",
            "|Perfect for Your ...|80380130347|           Brooklyn|       Fort Greene|40.69169|-73.97185|Entire home/apt|  656|           2.0|            198.0|             1.72|                           1.0|            96.0|                   1.0|\n",
            "|     Chelsea Perfect|73862528370|          Manhattan|           Chelsea|40.74192|-73.99501|   Private room|  460|           1.0|            260.0|             2.12|                           1.0|           325.0|                   0.0|\n",
            "|Hip Historic Brow...|72145018858|           Brooklyn|     Crown Heights|40.67592|-73.94694|Entire home/apt| 1095|           3.0|             53.0|             4.44|                           1.0|           345.0|                   1.0|\n",
            "+--------------------+-----------+-------------------+------------------+--------+---------+---------------+-----+--------------+-----------------+-----------------+------------------------------+----------------+----------------------+\n",
            "only showing top 20 rows\n",
            "\n"
          ]
        }
      ]
    },
    {
      "cell_type": "code",
      "source": [
        "from pyspark.ml.feature import StringIndexer\n",
        "My_df = StringIndexer(inputCol='room_type', outputCol='room_typeNEW').fit(My_df).transform(My_df)\n",
        "\n",
        "My_df.show()"
      ],
      "metadata": {
        "colab": {
          "base_uri": "https://localhost:8080/"
        },
        "id": "9RHYMF2At8Kp",
        "outputId": "2981528d-ce9c-4692-e67e-b39c7f9d6522"
      },
      "execution_count": 51,
      "outputs": [
        {
          "output_type": "stream",
          "name": "stdout",
          "text": [
            "+--------------------+-----------+-------------------+------------------+--------+---------+---------------+-----+--------------+-----------------+-----------------+------------------------------+----------------+----------------------+------------+\n",
            "|                name|    host_id|neighbourhood_group|     neighbourhood|     lat|     long|      room_type|price|minimum_nights|number_of_reviews|reviews_per_month|calculated_host_listings_count|availability_365|neighbourhood_groupNEW|room_typeNEW|\n",
            "+--------------------+-----------+-------------------+------------------+--------+---------+---------------+-----+--------------+-----------------+-----------------+------------------------------+----------------+----------------------+------------+\n",
            "|Clean & quiet apt...|80014485718|           Brooklyn|        Kensington|40.64749|-73.97237|   Private room|  966|          10.0|              9.0|             0.21|                           6.0|           286.0|                   1.0|         1.0|\n",
            "|Skylit Midtown Ca...|52335172823|          Manhattan|           Midtown|40.75362|-73.98377|Entire home/apt|  142|          13.0|             45.0|             0.38|                           2.0|           228.0|                   0.0|         0.0|\n",
            "|THE VILLAGE OF HA...|78829239556|          Manhattan|            Harlem|40.80902| -73.9419|   Private room|  620|           3.0|              0.0|             0.79|                           1.0|           352.0|                   0.0|         1.0|\n",
            "|               blank|85098326012|           Brooklyn|      Clinton Hill|40.68514|-73.95976|Entire home/apt|  368|          13.0|            270.0|             4.64|                           1.0|           322.0|                   1.0|         0.0|\n",
            "|Entire Apt: Spaci...|92037596077|          Manhattan|       East Harlem|40.79851|-73.94399|Entire home/apt|  204|          10.0|              9.0|              0.1|                           1.0|           289.0|                   0.0|         0.0|\n",
            "|Large Cozy 1 BR A...|45498551794|          Manhattan|       Murray Hill|40.74767|  -73.975|Entire home/apt|  577|           3.0|             74.0|             0.59|                           1.0|           374.0|                   0.0|         0.0|\n",
            "|     BlissArtsSpace!|61300605564|           Brooklyn|Bedford-Stuyvesant|40.68688|-73.95596|   Private room|   71|          13.0|             49.0|              0.4|                           1.0|           224.0|                   1.0|         1.0|\n",
            "|     BlissArtsSpace!|90821839709|           Brooklyn|Bedford-Stuyvesant|40.68688|-73.95596|   Private room| 1060|          13.0|             49.0|              0.4|                           1.0|           219.0|                   1.0|         1.0|\n",
            "|Large Furnished R...|79384379533|          Manhattan|    Hell's Kitchen|40.76489|-73.98493|   Private room| 1018|           2.0|            430.0|             3.47|                           1.0|           180.0|                   0.0|         1.0|\n",
            "|Cozy Clean Guest ...|75527839483|          Manhattan|   Upper West Side|40.80178|-73.96723|   Private room|  291|           2.0|            118.0|             0.99|                           1.0|           375.0|                   0.0|         1.0|\n",
            "|Cute & Cozy Lower...| 1280143094|          Manhattan|         Chinatown|40.71344|-73.99037|Entire home/apt|  319|           1.0|            160.0|             1.33|                           4.0|             1.0|                   0.0|         0.0|\n",
            "|Beautiful 1br on ...|18824631834|          Manhattan|   Upper West Side|40.80316|-73.96545|Entire home/apt|  606|           5.0|             53.0|             0.43|                           1.0|           163.0|                   0.0|         0.0|\n",
            "|Central Manhattan...|88136055909|          Manhattan|    Hell's Kitchen|40.76076|-73.98867|   Private room|  714|           2.0|            188.0|              1.5|                           1.0|           258.0|                   0.0|         1.0|\n",
            "|Lovely Room 1, Ga...|26802410424|           Brooklyn|       South Slope|40.66829|-73.98779|   Private room|  580|           4.0|            167.0|             1.34|                           3.0|            47.0|                   1.0|         1.0|\n",
            "|Wonderful Guest B...|88920244552|          Manhattan|   Upper West Side|40.79826|-73.96113|   Private room|  149|           2.0|            113.0|             0.91|                           1.0|            68.0|                   0.0|         1.0|\n",
            "|West Village Nest...|46551725984|          Manhattan|      West Village| 40.7353|-74.00525|Entire home/apt|  578|          13.0|             27.0|             0.22|                           1.0|           100.0|                   0.0|         0.0|\n",
            "|Only 2 stops to M...|62566345680|           Brooklyn|      Williamsburg|40.70837|-73.95352|Entire home/apt|  778|           2.0|            148.0|              1.2|                           1.0|           197.0|                   1.0|         0.0|\n",
            "|Perfect for Your ...|80380130347|           Brooklyn|       Fort Greene|40.69169|-73.97185|Entire home/apt|  656|           2.0|            198.0|             1.72|                           1.0|            96.0|                   1.0|         0.0|\n",
            "|     Chelsea Perfect|73862528370|          Manhattan|           Chelsea|40.74192|-73.99501|   Private room|  460|           1.0|            260.0|             2.12|                           1.0|           325.0|                   0.0|         1.0|\n",
            "|Hip Historic Brow...|72145018858|           Brooklyn|     Crown Heights|40.67592|-73.94694|Entire home/apt| 1095|           3.0|             53.0|             4.44|                           1.0|           345.0|                   1.0|         0.0|\n",
            "+--------------------+-----------+-------------------+------------------+--------+---------+---------------+-----+--------------+-----------------+-----------------+------------------------------+----------------+----------------------+------------+\n",
            "only showing top 20 rows\n",
            "\n"
          ]
        }
      ]
    },
    {
      "cell_type": "code",
      "source": [
        "My_df=My_df.na.fill(142,subset=['price'])"
      ],
      "metadata": {
        "id": "iLoOTcjT5jBw"
      },
      "execution_count": 52,
      "outputs": []
    },
    {
      "cell_type": "code",
      "source": [
        "for col in My_df.columns:\n",
        "  print(col, \":\", My_df.where(My_df[col].isNull()).count())"
      ],
      "metadata": {
        "colab": {
          "base_uri": "https://localhost:8080/"
        },
        "id": "67m8gx477GxE",
        "outputId": "fc8f8ee9-3e85-421d-a3f3-dc646669e3d9"
      },
      "execution_count": 53,
      "outputs": [
        {
          "output_type": "stream",
          "name": "stdout",
          "text": [
            "name : 0\n",
            "host_id : 0\n",
            "neighbourhood_group : 0\n",
            "neighbourhood : 0\n",
            "lat : 0\n",
            "long : 0\n",
            "room_type : 0\n",
            "price : 0\n",
            "minimum_nights : 0\n",
            "number_of_reviews : 0\n",
            "reviews_per_month : 0\n",
            "calculated_host_listings_count : 0\n",
            "availability_365 : 0\n",
            "neighbourhood_groupNEW : 0\n",
            "room_typeNEW : 0\n"
          ]
        }
      ]
    },
    {
      "cell_type": "code",
      "source": [
        "from pyspark.ml.feature import VectorAssembler\n",
        "\n",
        "Asmblr=VectorAssembler(inputCols=[\"neighbourhood_groupNEW\",\"room_typeNEW\",\"price\"],outputCol='VectorResult')\n",
        "\n",
        "MYDF=Asmblr.transform(My_df)\n",
        "\n",
        "MYDF.show()"
      ],
      "metadata": {
        "colab": {
          "base_uri": "https://localhost:8080/"
        },
        "id": "wYKH1iFWtpnK",
        "outputId": "073a2b5e-b052-430f-c10a-07655c087b93"
      },
      "execution_count": 54,
      "outputs": [
        {
          "output_type": "stream",
          "name": "stdout",
          "text": [
            "+--------------------+-----------+-------------------+------------------+--------+---------+---------------+-----+--------------+-----------------+-----------------+------------------------------+----------------+----------------------+------------+----------------+\n",
            "|                name|    host_id|neighbourhood_group|     neighbourhood|     lat|     long|      room_type|price|minimum_nights|number_of_reviews|reviews_per_month|calculated_host_listings_count|availability_365|neighbourhood_groupNEW|room_typeNEW|    VectorResult|\n",
            "+--------------------+-----------+-------------------+------------------+--------+---------+---------------+-----+--------------+-----------------+-----------------+------------------------------+----------------+----------------------+------------+----------------+\n",
            "|Clean & quiet apt...|80014485718|           Brooklyn|        Kensington|40.64749|-73.97237|   Private room|  966|          10.0|              9.0|             0.21|                           6.0|           286.0|                   1.0|         1.0| [1.0,1.0,966.0]|\n",
            "|Skylit Midtown Ca...|52335172823|          Manhattan|           Midtown|40.75362|-73.98377|Entire home/apt|  142|          13.0|             45.0|             0.38|                           2.0|           228.0|                   0.0|         0.0| [0.0,0.0,142.0]|\n",
            "|THE VILLAGE OF HA...|78829239556|          Manhattan|            Harlem|40.80902| -73.9419|   Private room|  620|           3.0|              0.0|             0.79|                           1.0|           352.0|                   0.0|         1.0| [0.0,1.0,620.0]|\n",
            "|               blank|85098326012|           Brooklyn|      Clinton Hill|40.68514|-73.95976|Entire home/apt|  368|          13.0|            270.0|             4.64|                           1.0|           322.0|                   1.0|         0.0| [1.0,0.0,368.0]|\n",
            "|Entire Apt: Spaci...|92037596077|          Manhattan|       East Harlem|40.79851|-73.94399|Entire home/apt|  204|          10.0|              9.0|              0.1|                           1.0|           289.0|                   0.0|         0.0| [0.0,0.0,204.0]|\n",
            "|Large Cozy 1 BR A...|45498551794|          Manhattan|       Murray Hill|40.74767|  -73.975|Entire home/apt|  577|           3.0|             74.0|             0.59|                           1.0|           374.0|                   0.0|         0.0| [0.0,0.0,577.0]|\n",
            "|     BlissArtsSpace!|61300605564|           Brooklyn|Bedford-Stuyvesant|40.68688|-73.95596|   Private room|   71|          13.0|             49.0|              0.4|                           1.0|           224.0|                   1.0|         1.0|  [1.0,1.0,71.0]|\n",
            "|     BlissArtsSpace!|90821839709|           Brooklyn|Bedford-Stuyvesant|40.68688|-73.95596|   Private room| 1060|          13.0|             49.0|              0.4|                           1.0|           219.0|                   1.0|         1.0|[1.0,1.0,1060.0]|\n",
            "|Large Furnished R...|79384379533|          Manhattan|    Hell's Kitchen|40.76489|-73.98493|   Private room| 1018|           2.0|            430.0|             3.47|                           1.0|           180.0|                   0.0|         1.0|[0.0,1.0,1018.0]|\n",
            "|Cozy Clean Guest ...|75527839483|          Manhattan|   Upper West Side|40.80178|-73.96723|   Private room|  291|           2.0|            118.0|             0.99|                           1.0|           375.0|                   0.0|         1.0| [0.0,1.0,291.0]|\n",
            "|Cute & Cozy Lower...| 1280143094|          Manhattan|         Chinatown|40.71344|-73.99037|Entire home/apt|  319|           1.0|            160.0|             1.33|                           4.0|             1.0|                   0.0|         0.0| [0.0,0.0,319.0]|\n",
            "|Beautiful 1br on ...|18824631834|          Manhattan|   Upper West Side|40.80316|-73.96545|Entire home/apt|  606|           5.0|             53.0|             0.43|                           1.0|           163.0|                   0.0|         0.0| [0.0,0.0,606.0]|\n",
            "|Central Manhattan...|88136055909|          Manhattan|    Hell's Kitchen|40.76076|-73.98867|   Private room|  714|           2.0|            188.0|              1.5|                           1.0|           258.0|                   0.0|         1.0| [0.0,1.0,714.0]|\n",
            "|Lovely Room 1, Ga...|26802410424|           Brooklyn|       South Slope|40.66829|-73.98779|   Private room|  580|           4.0|            167.0|             1.34|                           3.0|            47.0|                   1.0|         1.0| [1.0,1.0,580.0]|\n",
            "|Wonderful Guest B...|88920244552|          Manhattan|   Upper West Side|40.79826|-73.96113|   Private room|  149|           2.0|            113.0|             0.91|                           1.0|            68.0|                   0.0|         1.0| [0.0,1.0,149.0]|\n",
            "|West Village Nest...|46551725984|          Manhattan|      West Village| 40.7353|-74.00525|Entire home/apt|  578|          13.0|             27.0|             0.22|                           1.0|           100.0|                   0.0|         0.0| [0.0,0.0,578.0]|\n",
            "|Only 2 stops to M...|62566345680|           Brooklyn|      Williamsburg|40.70837|-73.95352|Entire home/apt|  778|           2.0|            148.0|              1.2|                           1.0|           197.0|                   1.0|         0.0| [1.0,0.0,778.0]|\n",
            "|Perfect for Your ...|80380130347|           Brooklyn|       Fort Greene|40.69169|-73.97185|Entire home/apt|  656|           2.0|            198.0|             1.72|                           1.0|            96.0|                   1.0|         0.0| [1.0,0.0,656.0]|\n",
            "|     Chelsea Perfect|73862528370|          Manhattan|           Chelsea|40.74192|-73.99501|   Private room|  460|           1.0|            260.0|             2.12|                           1.0|           325.0|                   0.0|         1.0| [0.0,1.0,460.0]|\n",
            "|Hip Historic Brow...|72145018858|           Brooklyn|     Crown Heights|40.67592|-73.94694|Entire home/apt| 1095|           3.0|             53.0|             4.44|                           1.0|           345.0|                   1.0|         0.0|[1.0,0.0,1095.0]|\n",
            "+--------------------+-----------+-------------------+------------------+--------+---------+---------------+-----+--------------+-----------------+-----------------+------------------------------+----------------+----------------------+------------+----------------+\n",
            "only showing top 20 rows\n",
            "\n"
          ]
        }
      ]
    },
    {
      "cell_type": "markdown",
      "source": [
        "K-Means Clustering"
      ],
      "metadata": {
        "id": "1kPsklm-_Nx-"
      }
    },
    {
      "cell_type": "code",
      "source": [
        "\n",
        "from pyspark.ml.clustering import KMeans\n",
        "from pyspark.ml.evaluation import ClusteringEvaluator\n",
        "\n",
        "ClusterK = KMeans(featuresCol=\"VectorResult\").setK(4).setSeed(1)\n",
        "mod = ClusterK.fit(MYDF)\n",
        "                   \n",
        "pred = mod.transform(MYDF)\n",
        "\n",
        "eval = ClusteringEvaluator(featuresCol=\"VectorResult\")\n",
        "\n",
        "silhouetteValue = eval.evaluate(pred)\n",
        "print(\"Silhouette with squared euclidean distance = \" + str(silhouetteValue))\n",
        "\n",
        "ClusCenters = mod.clusterCenters()\n",
        "print(\"Cluster Centers: \")\n",
        "for CC in ClusCenters:\n",
        "    print(CC)\n",
        "                   "
      ],
      "metadata": {
        "colab": {
          "base_uri": "https://localhost:8080/"
        },
        "id": "VxdNMUxbxS43",
        "outputId": "f89393ba-cc1d-4e6e-e0fa-876bfdb499ad"
      },
      "execution_count": 57,
      "outputs": [
        {
          "output_type": "stream",
          "name": "stdout",
          "text": [
            "Silhouette with squared euclidean distance = 0.7308218755045838\n",
            "Cluster Centers: \n",
            "[  0.79158565   0.48565199 476.09645866]\n",
            "[8.04428044e-01 4.92137383e-01 1.05332739e+03]\n",
            "[7.85918228e-01 4.87437186e-01 7.58044998e+02]\n",
            "[  0.78769666   0.49148548 191.53779978]\n"
          ]
        }
      ]
    }
  ]
}